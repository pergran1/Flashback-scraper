{
 "cells": [
  {
   "cell_type": "code",
   "execution_count": 1,
   "metadata": {},
   "outputs": [],
   "source": [
    "\n",
    "from more_itertools import sliced\n",
    "import re\n",
    "import numpy as np\n",
    "import pandas as pd\n",
    "import time\n",
    "\n",
    "\n",
    "from nltk.tokenize import sent_tokenize\n",
    "from nltk import *\n",
    "\n",
    "\n",
    "from IPython.display import clear_output\n",
    "\n",
    "import matplotlib.pyplot as plt\n",
    "from sklearn.model_selection import train_test_split\n",
    "import time\n",
    "\n",
    "import torch\n",
    "from torchtext import data\n",
    "import torch.nn as nn\n",
    "\n",
    "import seaborn as sns\n",
    "\n",
    "import spacy\n",
    "import os"
   ]
  },
  {
   "cell_type": "code",
   "execution_count": 2,
   "metadata": {},
   "outputs": [
    {
     "data": {
      "text/html": [
       "<div>\n",
       "<style scoped>\n",
       "    .dataframe tbody tr th:only-of-type {\n",
       "        vertical-align: middle;\n",
       "    }\n",
       "\n",
       "    .dataframe tbody tr th {\n",
       "        vertical-align: top;\n",
       "    }\n",
       "\n",
       "    .dataframe thead th {\n",
       "        text-align: right;\n",
       "    }\n",
       "</style>\n",
       "<table border=\"1\" class=\"dataframe\">\n",
       "  <thead>\n",
       "    <tr style=\"text-align: right;\">\n",
       "      <th></th>\n",
       "      <th>citat</th>\n",
       "      <th>svar</th>\n",
       "      <th>citat_count</th>\n",
       "      <th>svar_count</th>\n",
       "    </tr>\n",
       "  </thead>\n",
       "  <tbody>\n",
       "    <tr>\n",
       "      <th>0</th>\n",
       "      <td>hmm, säkert intressant... extremt långt att lä...</td>\n",
       "      <td>du noterade inte att tråden var skapad 2001?</td>\n",
       "      <td>13</td>\n",
       "      <td>8</td>\n",
       "    </tr>\n",
       "    <tr>\n",
       "      <th>1</th>\n",
       "      <td>nerå har läst denna förut, nån som har den i p...</td>\n",
       "      <td>haha hur lyckas du?</td>\n",
       "      <td>14</td>\n",
       "      <td>4</td>\n",
       "    </tr>\n",
       "    <tr>\n",
       "      <th>2</th>\n",
       "      <td>nerå har läst denna förut, nån som har den i p...</td>\n",
       "      <td>okynnesbump (tråden är från 2001)   tråden lås...</td>\n",
       "      <td>14</td>\n",
       "      <td>8</td>\n",
       "    </tr>\n",
       "    <tr>\n",
       "      <th>3</th>\n",
       "      <td>förlåt om jag gräver upp en extremt gammal trå...</td>\n",
       "      <td>nu blir det lite moderator-ot här men jag måst...</td>\n",
       "      <td>22</td>\n",
       "      <td>26</td>\n",
       "    </tr>\n",
       "    <tr>\n",
       "      <th>4</th>\n",
       "      <td>my phone explorer? vilket os är det till? elle...</td>\n",
       "      <td>det går att tanka här: http://www.fjsoft.at/en...</td>\n",
       "      <td>17</td>\n",
       "      <td>33</td>\n",
       "    </tr>\n",
       "    <tr>\n",
       "      <th>...</th>\n",
       "      <td>...</td>\n",
       "      <td>...</td>\n",
       "      <td>...</td>\n",
       "      <td>...</td>\n",
       "    </tr>\n",
       "    <tr>\n",
       "      <th>550462</th>\n",
       "      <td>gör det saken bättre att man skulle sälja det ...</td>\n",
       "      <td>javisst!   blir det ett jävla liv så måste man...</td>\n",
       "      <td>10</td>\n",
       "      <td>54</td>\n",
       "    </tr>\n",
       "    <tr>\n",
       "      <th>550463</th>\n",
       "      <td>när pappa och mamma hitta mina sprutor, så ble...</td>\n",
       "      <td>de tungt. men min kurr kostade nästan 10lax so...</td>\n",
       "      <td>41</td>\n",
       "      <td>19</td>\n",
       "    </tr>\n",
       "    <tr>\n",
       "      <th>550464</th>\n",
       "      <td>de tungt. men min kurr kostade nästan 10lax so...</td>\n",
       "      <td>vilken idiot! det är strängligen förbjudet att...</td>\n",
       "      <td>19</td>\n",
       "      <td>25</td>\n",
       "    </tr>\n",
       "    <tr>\n",
       "      <th>550465</th>\n",
       "      <td>grabbar har ni inte lärt er att gömma sakerna ...</td>\n",
       "      <td>mina saker ligger i ett låst skåp jag har barn...</td>\n",
       "      <td>63</td>\n",
       "      <td>16</td>\n",
       "    </tr>\n",
       "    <tr>\n",
       "      <th>550466</th>\n",
       "      <td>angående spelen ärdet bara att gå in i nästan ...</td>\n",
       "      <td>då hade jag rätt  =)  jag trodde nästa detta.....</td>\n",
       "      <td>23</td>\n",
       "      <td>28</td>\n",
       "    </tr>\n",
       "  </tbody>\n",
       "</table>\n",
       "<p>550467 rows × 4 columns</p>\n",
       "</div>"
      ],
      "text/plain": [
       "                                                    citat  \\\n",
       "0       hmm, säkert intressant... extremt långt att lä...   \n",
       "1       nerå har läst denna förut, nån som har den i p...   \n",
       "2       nerå har läst denna förut, nån som har den i p...   \n",
       "3       förlåt om jag gräver upp en extremt gammal trå...   \n",
       "4       my phone explorer? vilket os är det till? elle...   \n",
       "...                                                   ...   \n",
       "550462  gör det saken bättre att man skulle sälja det ...   \n",
       "550463  när pappa och mamma hitta mina sprutor, så ble...   \n",
       "550464  de tungt. men min kurr kostade nästan 10lax so...   \n",
       "550465  grabbar har ni inte lärt er att gömma sakerna ...   \n",
       "550466  angående spelen ärdet bara att gå in i nästan ...   \n",
       "\n",
       "                                                     svar  citat_count  \\\n",
       "0            du noterade inte att tråden var skapad 2001?           13   \n",
       "1                                     haha hur lyckas du?           14   \n",
       "2       okynnesbump (tråden är från 2001)   tråden lås...           14   \n",
       "3       nu blir det lite moderator-ot här men jag måst...           22   \n",
       "4       det går att tanka här: http://www.fjsoft.at/en...           17   \n",
       "...                                                   ...          ...   \n",
       "550462  javisst!   blir det ett jävla liv så måste man...           10   \n",
       "550463  de tungt. men min kurr kostade nästan 10lax so...           41   \n",
       "550464  vilken idiot! det är strängligen förbjudet att...           19   \n",
       "550465  mina saker ligger i ett låst skåp jag har barn...           63   \n",
       "550466  då hade jag rätt  =)  jag trodde nästa detta.....           23   \n",
       "\n",
       "        svar_count  \n",
       "0                8  \n",
       "1                4  \n",
       "2                8  \n",
       "3               26  \n",
       "4               33  \n",
       "...            ...  \n",
       "550462          54  \n",
       "550463          19  \n",
       "550464          25  \n",
       "550465          16  \n",
       "550466          28  \n",
       "\n",
       "[550467 rows x 4 columns]"
      ]
     },
     "execution_count": 2,
     "metadata": {},
     "output_type": "execute_result"
    }
   ],
   "source": [
    "# Ladda den rensade datan \n",
    "\n",
    "flash = pd.read_csv(\"FLASH_CITAT_CLEAN.csv\")\n",
    "flash"
   ]
  },
  {
   "cell_type": "code",
   "execution_count": null,
   "metadata": {},
   "outputs": [],
   "source": []
  },
  {
   "cell_type": "code",
   "execution_count": null,
   "metadata": {},
   "outputs": [],
   "source": []
  },
  {
   "cell_type": "code",
   "execution_count": null,
   "metadata": {},
   "outputs": [],
   "source": []
  },
  {
   "cell_type": "code",
   "execution_count": null,
   "metadata": {},
   "outputs": [],
   "source": []
  },
  {
   "cell_type": "code",
   "execution_count": null,
   "metadata": {},
   "outputs": [],
   "source": []
  },
  {
   "cell_type": "code",
   "execution_count": null,
   "metadata": {},
   "outputs": [],
   "source": []
  },
  {
   "cell_type": "code",
   "execution_count": null,
   "metadata": {},
   "outputs": [],
   "source": []
  },
  {
   "cell_type": "code",
   "execution_count": null,
   "metadata": {},
   "outputs": [],
   "source": []
  },
  {
   "cell_type": "code",
   "execution_count": null,
   "metadata": {},
   "outputs": [],
   "source": []
  },
  {
   "cell_type": "code",
   "execution_count": null,
   "metadata": {},
   "outputs": [],
   "source": []
  },
  {
   "cell_type": "code",
   "execution_count": null,
   "metadata": {},
   "outputs": [],
   "source": []
  },
  {
   "cell_type": "code",
   "execution_count": null,
   "metadata": {},
   "outputs": [],
   "source": []
  },
  {
   "cell_type": "code",
   "execution_count": null,
   "metadata": {},
   "outputs": [],
   "source": []
  },
  {
   "cell_type": "code",
   "execution_count": null,
   "metadata": {},
   "outputs": [],
   "source": []
  },
  {
   "cell_type": "code",
   "execution_count": null,
   "metadata": {},
   "outputs": [],
   "source": []
  },
  {
   "cell_type": "code",
   "execution_count": null,
   "metadata": {},
   "outputs": [],
   "source": []
  },
  {
   "cell_type": "code",
   "execution_count": null,
   "metadata": {},
   "outputs": [],
   "source": []
  },
  {
   "cell_type": "code",
   "execution_count": null,
   "metadata": {},
   "outputs": [],
   "source": []
  },
  {
   "cell_type": "code",
   "execution_count": null,
   "metadata": {},
   "outputs": [],
   "source": []
  },
  {
   "cell_type": "code",
   "execution_count": null,
   "metadata": {},
   "outputs": [],
   "source": []
  },
  {
   "cell_type": "code",
   "execution_count": null,
   "metadata": {},
   "outputs": [],
   "source": []
  },
  {
   "cell_type": "code",
   "execution_count": null,
   "metadata": {},
   "outputs": [],
   "source": []
  },
  {
   "cell_type": "code",
   "execution_count": null,
   "metadata": {},
   "outputs": [],
   "source": []
  },
  {
   "cell_type": "code",
   "execution_count": null,
   "metadata": {},
   "outputs": [],
   "source": []
  },
  {
   "cell_type": "code",
   "execution_count": null,
   "metadata": {},
   "outputs": [],
   "source": []
  },
  {
   "cell_type": "code",
   "execution_count": null,
   "metadata": {},
   "outputs": [],
   "source": []
  },
  {
   "cell_type": "code",
   "execution_count": null,
   "metadata": {},
   "outputs": [],
   "source": []
  },
  {
   "cell_type": "code",
   "execution_count": null,
   "metadata": {},
   "outputs": [],
   "source": []
  },
  {
   "cell_type": "code",
   "execution_count": null,
   "metadata": {},
   "outputs": [],
   "source": []
  },
  {
   "cell_type": "code",
   "execution_count": null,
   "metadata": {},
   "outputs": [],
   "source": []
  },
  {
   "cell_type": "code",
   "execution_count": null,
   "metadata": {},
   "outputs": [],
   "source": []
  },
  {
   "cell_type": "code",
   "execution_count": null,
   "metadata": {},
   "outputs": [],
   "source": []
  }
 ],
 "metadata": {
  "kernelspec": {
   "display_name": "Python 3",
   "language": "python",
   "name": "python3"
  },
  "language_info": {
   "codemirror_mode": {
    "name": "ipython",
    "version": 3
   },
   "file_extension": ".py",
   "mimetype": "text/x-python",
   "name": "python",
   "nbconvert_exporter": "python",
   "pygments_lexer": "ipython3",
   "version": "3.8.5"
  }
 },
 "nbformat": 4,
 "nbformat_minor": 4
}
