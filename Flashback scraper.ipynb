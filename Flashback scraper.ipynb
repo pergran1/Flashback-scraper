{
 "cells": [
  {
   "cell_type": "code",
   "execution_count": 1,
   "metadata": {},
   "outputs": [],
   "source": [
    "from bs4 import BeautifulSoup\n",
    "from selenium import webdriver\n",
    "#import chromedriver_binary  # Adds chromedriver binary to path\n",
    "import requests\n",
    "from more_itertools import sliced\n",
    "import re\n",
    "import numpy as np\n",
    "import pandas as pd\n",
    "import time\n",
    "\n",
    "\n",
    "from nltk.tokenize import sent_tokenize\n",
    "from nltk import *\n",
    "\n",
    "\n",
    "from IPython.display import clear_output"
   ]
  },
  {
   "cell_type": "code",
   "execution_count": 2,
   "metadata": {},
   "outputs": [],
   "source": [
    "url = requests.get(\"https://www.flashback.org/t3244499\", headers={\"User-Agent\":\"Mozilla/5.0\"})\n",
    "html_soup = BeautifulSoup(url.content, 'html.parser')\n",
    "#driver.implicitly_wait(3)\n",
    "#soup = BeautifulSoup(url.content, 'html.parser')\n",
    "#https://www.poemhunter.com/poems/classical-poems/?a=0&l=classic&order=title&p=3300 \n"
   ]
  },
  {
   "cell_type": "code",
   "execution_count": 3,
   "metadata": {},
   "outputs": [
    {
     "output_type": "stream",
     "name": "stdout",
     "text": [
      "\n\n\nEkonomi\nAktier\n\n\n"
     ]
    },
    {
     "output_type": "execute_result",
     "data": {
      "text/plain": [
       "'EkonomiAktier'"
      ]
     },
     "metadata": {},
     "execution_count": 3
    }
   ],
   "source": [
    "# This is the subjects\n",
    "test = html_soup.find(\"div\", class_=\"list-forum-title\").get_text()\n",
    "print(test)  #there are many \\n here\n",
    "test.replace(\"\\n\", \"\") #use thos to change"
   ]
  },
  {
   "cell_type": "code",
   "execution_count": 4,
   "metadata": {},
   "outputs": [
    {
     "output_type": "stream",
     "name": "stdout",
     "text": [
      "99\">Swemet -SWEM B\n"
     ]
    }
   ],
   "source": [
    "# Titel på frågan\n",
    "\n",
    "\n",
    "test = html_soup.findAll(\"h1\")\n",
    "test = str(test[1])[19+2:-10]\n",
    "print(test)"
   ]
  },
  {
   "cell_type": "code",
   "execution_count": 5,
   "metadata": {},
   "outputs": [
    {
     "output_type": "stream",
     "name": "stdout",
     "text": [
      "[<h1 id=\"top-logo\"><a href=\"/\">Flashback Forum</a></h1>, <h1>\n<a href=\"/t3244499\">Swemet -SWEM B</a>\n</h1>]\n"
     ]
    },
    {
     "output_type": "execute_result",
     "data": {
      "text/plain": [
       "'Flashback Forum'"
      ]
     },
     "metadata": {},
     "execution_count": 5
    }
   ],
   "source": [
    "test2 = html_soup.findAll(\"h1\") #creates a list of all h1 see below\n",
    "print(test2) \n",
    "test2[0].get_text()  #get the text from the first element in the list"
   ]
  },
  {
   "cell_type": "code",
   "execution_count": 6,
   "metadata": {},
   "outputs": [
    {
     "output_type": "stream",
     "name": "stdout",
     "text": [
      "9\n"
     ]
    },
    {
     "output_type": "execute_result",
     "data": {
      "text/plain": [
       "''"
      ]
     },
     "metadata": {},
     "execution_count": 6
    }
   ],
   "source": [
    "hej = str(test[1])\n",
    "print(hej)\n",
    "hej[25:-10]"
   ]
  },
  {
   "cell_type": "code",
   "execution_count": 7,
   "metadata": {},
   "outputs": [
    {
     "output_type": "execute_result",
     "data": {
      "text/plain": [
       "'9'"
      ]
     },
     "metadata": {},
     "execution_count": 7
    }
   ],
   "source": [
    "test[1]"
   ]
  },
  {
   "cell_type": "code",
   "execution_count": 8,
   "metadata": {},
   "outputs": [
    {
     "output_type": "execute_result",
     "data": {
      "text/plain": [
       "''"
      ]
     },
     "metadata": {},
     "execution_count": 8
    }
   ],
   "source": [
    "str(test[1])[25:-10]"
   ]
  },
  {
   "cell_type": "code",
   "execution_count": 9,
   "metadata": {},
   "outputs": [
    {
     "output_type": "stream",
     "name": "stdout",
     "text": [
      "2020-06-24, 22:15\n2020-06-24, 23:46\n2020-06-25, 05:29\n2020-06-25, 12:34\n2020-06-25, 13:19\n2020-06-25, 13:35\n2020-06-27, 14:24\n2020-06-27, 15:19\n2020-06-27, 17:03\n2020-06-27, 17:20\t\n2020-06-27, 17:49\t\n2020-06-27, 18:09\t\n"
     ]
    }
   ],
   "source": [
    "# find the date when it was posted\n",
    "test = html_soup.find_all(\"div\", class_=\"post-heading\")\n",
    "for i in range(len(test)):\n",
    "    print(str(test[i].get_text().replace(\"\\n\", \"\")[4:-30]))\n"
   ]
  },
  {
   "cell_type": "code",
   "execution_count": 10,
   "metadata": {},
   "outputs": [
    {
     "output_type": "stream",
     "name": "stdout",
     "text": [
      "12\n\n\n\n\t\t\t\t2020-06-24, 22:15\n\t\t\t\t\n\n\t\t\t\t\n\t\t\t\t\n\n\t\t\t\t\t\n\t\t\t\t\t \n\t\t\t\t\t#1\n\n\n\n"
     ]
    }
   ],
   "source": [
    "print(len(test)) #good way to see how many posts there are on one page\n",
    "print(test[0].get_text())"
   ]
  },
  {
   "cell_type": "code",
   "execution_count": 11,
   "metadata": {},
   "outputs": [
    {
     "output_type": "stream",
     "name": "stdout",
     "text": [
      "Sjuntorparn\nAktiespekulanten\nSjuntorparn\nAktiespekulanten\nSjuntorparn\nSjuntorparn\nZiggeZiggarett\nZiggeZiggarett\nSjuntorparn\nSjuntorparn\nZiggeZiggarett\nSjuntorparn\n"
     ]
    }
   ],
   "source": [
    "# Get the User name\n",
    "test = html_soup.find_all(\"a\", class_=\"post-user-username dropdown-toggle\")\n",
    "for line in test:\n",
    "    print(line.get_text().replace(\"\\n\", \"\")[6:-6])\n",
    "    \n",
    "    "
   ]
  },
  {
   "cell_type": "code",
   "execution_count": 12,
   "metadata": {},
   "outputs": [
    {
     "output_type": "stream",
     "name": "stdout",
     "text": [
      "\n\t\t\t\tMycket intressant bolag som jag nyligen köpt in mej i.\nTa er tid att läsa på. Ser riktigt bra ut. Mycket stark marknad framför oss.\n\nOmsättning för 2019: 29,8 miljoner. med en vinst på 2,2 miljoner. 14 öre/aktie.\n\nBörsvärde: endast 24 miljoner.\n\n\nhttps://swemet.se\n\n\nNågra highlights.\n\n\"Fortsatt stark marknad i Sverige fram till 2025 med befintliga kunder och ett antal nya kunder.\"\n\n\"Swemet har gått in i ny fas vilket starkt förbättrat omsättning och resultat.\"\n\n\"På helårsbasis är det en rejäl omsättningsökning vilket från bolaget är förväntat och förutspått. Med ökat kundantal kan vi förvänta oss en fortsatt omsättningsökning under 2020. Avskrivningarna minskar successivt, 2,0MSEK 2019, 1,2MSEK 2020 och 0,4MSEK 2021 och kommer bidra till en stark resultatutveckling efter skatt.\"\n\n\"Swemet har gått in i ny fas vilket starkt påverkat omsättning och resultat. Effekten av försäljningsökningen under 2019 har huvudsakligen hamnat under det andra halvåret. Under 2020 uppnår vi full effekt under hela året.\"\n\n\"Swemets servicesida med konsulttjänster går fortsatt starkt och tillsammans med tjänster omkring mätarbytena till våra kunder ger det full beläggning.\"\n\n\"Swemet har gjort ansträngningar i Finland, Danmark och Frankrike Ett flertal presentationer och besök förväntas resultera i startuporders.\"\n\n\"Swemet är med sin kompetens och erfarenhet i en bra position för att utöka Bolagets marknads-andel.\"\n\n\"har erhållit den första ordern till en finländsk kund. Efter en tids anpassning av mätarens funktionalitet till de specifika tekniska krav som kunden ställt har Swemet erhållit den första ordern om ca 150TSEK. Kunden har ett totalt behov av mätare till ett värde av 10MSEK.\"\n\nsenast 1 januari 2025 ska samtliga 5,4 miljoner elmätare bytas i Sverige. Swemet har produkterna och kompetensen.\n\n\nMånga fina ordrar senaste året. Läs alla PM.\n\t\t\t\n\n\t\t\t\tDe senaste 10 åren har företaget aktie inte levererat något.\n\nSå de sysslar med infrastruktur för mätdatainsamlingen ? och nyligen fått en exportorder på 150 TSEK till Finland. De är ingenting, liten order.\n\nDe har haft förlust år mer än vad de har haft vinst år.\n\nDeras kortsiktiga skulder är stora, och de kommer kanske tvingas omsätta sina omsättningstillgångar för att betala av dem, då deras kassaflöde från löpande verksamheten endast är 433' och jag antar att de tar ut hälften av dem, ifall man ser kassaflödet från finansieringsverksamheten, vilket är ägartransaktioner mellan företaget och ägarna.\n\nderas rörelsekostnader är stora.\n\n\nMan ska vara försiktig med potentiella tillväxtföretag.\nDå om det går skit, så kan man inte gå ur sin position, de deras aktie är illiquid.\n\nHur mycket har du gått in med? Bara nyfiken.\nPersonligen skulle jag inte röra aktien.\n\nSlutligen så vill jag bara påpeka att varje lednings uppgift är att säga \"fina ord\" om verksamheten även när det inte är så fint.\n\nShow me the results! är det som är viktigast, dessutom har de säkrat de framtida orders? eller är det bara ord.\n\t\t\t\n\n\nCitat:\n\n\n Ursprungligen postat av Aktiespekulanten\n\nDe senaste 10 åren har företaget aktie inte levererat något.\n\nSå de sysslar med infrastruktur för mätdatainsamlingen ? och nyligen fått en exportorder på 150 TSEK till Finland. De är ingenting, liten order.\n\nDe har haft förlust år mer än vad de har haft vinst år.\n\nDeras kortsiktiga skulder är stora, och de kommer kanske tvingas omsätta sina omsättningstillgångar för att betala av dem, då deras kassaflöde från löpande verksamheten endast är 433' och jag antar att de tar ut hälften av dem, ifall man ser kassaflödet från finansieringsverksamheten, vilket är ägartransaktioner mellan företaget och ägarna.\n\nderas rörelsekostnader är stora.\n\n\nMan ska vara försiktig med potentiella tillväxtföretag.\nDå om det går skit, så kan man inte gå ur sin position, de deras aktie är illiquid.\n\nHur mycket har du gått in med? Bara nyfiken.\nPersonligen skulle jag inte röra aktien.\n\nSlutligen så vill jag bara påpeka att varje lednings uppgift är att säga \"fina ord\" om verksamheten även när det inte är så fint.\n\nShow me the results! är det som är viktigast, dessutom har de säkrat de framtida orders? eller är det bara ord.\n\n\n\nScrolla tillbaka några månader i Pm-listan. Bolaget får stora ordrar. Mångmiljonorders.\n\nDen senaste på ynka 150 000 var den första i Finland. en testorder. Räknar med mycket fler därifrån. Mycket större. \nÄven om svenska marknaden är big enough kommande år.\n\n\"show me the results\"? Vinst 14 öre per aktie, 2019. \nBra vind i seglet väntas kommande  5 år. \n5.4 miljoner elmätare ska bytas bara i Sverige. \nHela EU ska uppgradera sina mätare.\n\n\nLäs igenom ett år av PM innan du svarar. (och inte bara rubrikerna) inte bara det senaste. Men helt rätt, man ska vara kritisk.\n\t\t\t\n\n\nCitat:\n\n\n Ursprungligen postat av Sjuntorparn\n\nScrolla tillbaka några månader i Pm-listan. Bolaget får stora ordrar. Mångmiljonorders.\n\nDen senaste på ynka 150 000 var den första i Finland. en testorder. Räknar med mycket fler därifrån. Mycket större. \nÄven om svenska marknaden är big enough kommande år.\n\n\"show me the results\"? Vinst 14 öre per aktie, 2019. \nBra vind i seglet väntas kommande  5 år. \n5.4 miljoner elmätare ska bytas bara i Sverige. \nHela EU ska uppgradera sina mätare.\n\n\nLäs igenom ett år av PM innan du svarar. (och inte bara rubrikerna) inte bara det senaste. Men helt rätt, man ska vara kritisk.\n\n\n\nHur mycket är du inne med? om man får fråga?\n\t\t\t\n\n\nCitat:\n\n\n Ursprungligen postat av Aktiespekulanten\n\nHur mycket är du inne med? om man får fråga?\n\n\n\nBrukar va inne med några månadslöner i dessa småbolag. I Swemet är jag inne med några till.\nAtt handeln i aktien är obefintlig/låg visar på att risken är låg. Ägare släpper ej guldkornet. \n\nGår inte avyttra på minuten kanske, men det har jag inget behov av.\nTror verkligen på Swemet. I år och kommande år.\n\t\t\t\n\n\t\t\t\tSåg igår hur aktien stack 30% med endast 230 000kr i aktieomsättning. \nNär några miljoner kr vill in på en dag så kommer det bli dyrt.\n\t\t\t\n\n\t\t\t\tDenna är ju lite intressant. Man vände till vinst 2019 och då var soliditeten i det närmaste urgröpt. En emission hade varit nödvändig.\n\nNu kan man ladda batterierna men soliditeten är 22% (mot 8% som lägst)\n\nMen det är uppenbart att man går med vinst när man nu fått snurr på det. Men det verkar vara två kunder som står för resultatförbättringen. De måste hitta fler kunder ganska snabbt...\n\nJag antar de stora nätoperatörerna gör egna mätare? De inriktar sig mot de mindre nätbolagen. Vilken är konkurrensen månne.\n\nEn annan sak jag snappade upp är att de har kinesiska underleverantörer. Frågan är hur stabilt det är i denna Oredans Tid, men jag antar det inte är en jättefråga.\n\nEn liten slant kan man piffa in. IoT is da shit och frågan är om alla leverantörer klarar tekniken? Swemet verkar ligga i framkant i alla fall.\n\nKul!! Ett PE på 17 är sannerligen inget som kräver en raketresa.\n\t\t\t\n\n\nCitat:\n\n\n Ursprungligen postat av Sjuntorparn\n\nBrukar va inne med några månadslöner i dessa småbolag. I Swemet är jag inne med några till.\nAtt handeln i aktien är obefintlig/låg visar på att risken är låg. Ägare släpper ej guldkornet. \n\nGår inte avyttra på minuten kanske, men det har jag inget behov av.\nTror verkligen på Swemet. I år och kommande år.\n\n\n\nJag skall känna på den på måndag. Kursförändringen under 2019 när man vände till vinst var inte så kraftig som den borde varit. Ett sådant här bolag kan svälja ett rejält PE, men ligger på 17...\n\nDet krävs ingen vinsttillväxt att tala om för att försvara det, man får hoppas att 2019 inte var ett \"lyckans år\". troligen var det ett rejält trendbrott och marknadsgenomslag.\n\nOm en liten skutt som Växjö Energi som kund får ett sådant genomslag... det kryllar ju av lokala nätoperatörer. \n\nJag köper och lägger i den berömda byrålådan ett par-tre år.\n\t\t\t\n\n\nCitat:\n\n\n Ursprungligen postat av ZiggeZiggarett\n\nJag skall känna på den på måndag. Kursförändringen under 2019 när man vände till vinst var inte så kraftig som den borde varit. Ett sådant här bolag kan svälja ett rejält PE, men ligger på 17...\n\nDet krävs ingen vinsttillväxt att tala om för att försvara det, man får hoppas att 2019 inte var ett \"lyckans år\". troligen var det ett rejält trendbrott och marknadsgenomslag.\n\nOm en liten skutt som Växjö Energi som kund får ett sådant genomslag... det kryllar ju av lokala nätoperatörer. \n\nJag köper och lägger i den berömda byrålådan ett par-tre år.\n\n\n\nLycka till. När man grottat ner sej i bolaget är man fast.\n\n(Jag lägger in 2 länkar för att få med dom i tråden, för andra som är intresserade.)\n\nFrån 2017:\nhttps://investor.swemet.se/nyheter/v...o-52601?page=4\n\n\"Störst uppmärksamhet mötte förevisningen där Swemet, med utgångspunkt från sitt system kunde uppvisa byte av standard för elnätskommunikation från G3-PLC till radiokommunikation LoRA under full drift utan spänningsavbrott på enskild mätare. Mätarbyten kräver såväl administration som höga kostnader - tack vare Swemets teknologi så får nätbolagen stora besparingseffekter. Vidare så erbjuder Swemet, genom sitt exklusiva samarbete med den världsledande leverantören ZTE de förmånligaste priserna vilket positionerar Swemet som marknadens ledande aktör.\n\nSwemets VD, Jan Axelsson, \"Det är en unik och enastående funktion som Swemet påvisar, vi hanterar alla standarder som marknaden visar intresse för. Vi får en betydande respons - värt att nämna några av de närvarande nätbolagen, VEB Växjö Energi, Olofströms Kraft och Landskrona Energi, som tillsammans med övriga deltagare äger ca 140.000 mätare.\"\n\nFrån 2020-05-25\nhttps://investor.swemet.se/nyheter/i...tarutbud-77912\n\n\"Bolaget har tre kunder som efterfrågat den nya tekniken och efter tester kan vi nu bekräfta att konceptet fungerar fullt ut i vårt system. Till befintliga kunder kan det komma bli ett komplement men Bolaget har nya kunder som överväger att enbart välja NBIoT som kommunikationsteknik.\"\n\n\nEn mätare motsvarar cirka 1000kr i omsättning för Swemet.\nBolaget utvecklar sina egna mätare. Tillverkas i Kina.\n\nTror det är en tidsfråga innan det rasslar till rejält här.\n\t\t\t\n\n\nCitat:\n\n\n Ursprungligen postat av ZiggeZiggarett\n\nJag skall känna på den på måndag. Kursförändringen under 2019 när man vände till vinst var inte så kraftig som den borde varit. Ett sådant här bolag kan svälja ett rejält PE, men ligger på 17...\n\n\n\nPE 17 som står på avanza stämmer inte. Vinsten för 2019 var inte 0.10 öre per aktie. Den justerades till 0.14 öre per aktie.\n\nhttps://investor.swemet.se/nyheter/s...sek-for--77268\n\nVilket ger ett PE på ynka 13.5. Ännu bättre. Nyckeltal är dock meningslöst i detta fallet.\n\t\t\t\n\n\nCitat:\n\n\n Ursprungligen postat av Sjuntorparn\n\nPE 17 som står på avanza stämmer inte. Vinsten för 2019 var inte 0.10 öre per aktie. Den justerades till 0.14 öre per aktie.\n\nhttps://investor.swemet.se/nyheter/s...sek-for--77268\n\nVilket ger ett PE på ynka 13.5. Ännu bättre. Nyckeltal är dock meningslöst i detta fallet.\n\n\n\nNyckeltalet PE talar ju om att marknaden inte ännu värderar Swemet som ett tillväxtbolag. Och det är intressant.\n\nP/S ligger på ca 1... även det är fascinerande.\n\t\t\t\n\n\nCitat:\n\n\n Ursprungligen postat av ZiggeZiggarett\n\nNyckeltalet PE talar ju om att marknaden inte ännu värderar Swemet som ett tillväxtbolag. Och det är intressant.\n\nP/S ligger på ca 1... även det är fascinerande.\n\n\n\nJa, du har rätt. Har själv aldrig brytt mej om PE-tal. När folkmassan ska in så bryr sej ingen.\n\"De ä ba å köp.\"\n\t\t\t\n"
     ]
    }
   ],
   "source": [
    "# get the text that was posted \n",
    "test = html_soup.find_all(\"div\", class_=\"post_message\")\n",
    "for line in test:\n",
    "    print(line.get_text())"
   ]
  },
  {
   "cell_type": "code",
   "execution_count": 13,
   "metadata": {},
   "outputs": [
    {
     "output_type": "stream",
     "name": "stdout",
     "text": [
      "13\nSidan 1 av 30\n"
     ]
    },
    {
     "output_type": "execute_result",
     "data": {
      "text/plain": [
       "30"
      ]
     },
     "metadata": {},
     "execution_count": 13
    }
   ],
   "source": [
    "# Find out how many pages each thread has\n",
    "\n",
    "\n",
    "test = html_soup.find(\"span\", class_ =\"input-page-jump\").get_text()\n",
    "print(len(test))\n",
    "print(test)\n",
    "int(test[11:])"
   ]
  },
  {
   "cell_type": "code",
   "execution_count": 14,
   "metadata": {},
   "outputs": [
    {
     "output_type": "stream",
     "name": "stdout",
     "text": [
      "2\n3\n4\n5\n6\n7\n8\n9\n10\n11\n12\n13\n14\n15\n16\n17\n18\n19\n20\n21\n22\n23\n24\n25\n26\n27\n28\n29\n30\n"
     ]
    }
   ],
   "source": [
    "j = 1\n",
    "for i in range(int(test[11:])-1):\n",
    "    j += 1\n",
    "    print(j)\n",
    "    "
   ]
  },
  {
   "cell_type": "code",
   "execution_count": 15,
   "metadata": {},
   "outputs": [],
   "source": [
    "\n",
    "    \n",
    "url = requests.get(\"https://www.flashback.org/t3247324\", headers={\"User-Agent\":\"Mozilla/5.0\"})\n",
    "html_soup = BeautifulSoup(url.content, 'html.parser')"
   ]
  },
  {
   "cell_type": "code",
   "execution_count": 16,
   "metadata": {},
   "outputs": [
    {
     "output_type": "stream",
     "name": "stdout",
     "text": [
      "Holmen92\nu99HSHH\ndiseuse\nHolmen92\nanon00\nTheJacket\nFriskEllerva\nLagbrott\nmailguru\nLagbrott\nLagbrott\nanon00\n"
     ]
    }
   ],
   "source": [
    "# Get the User name\n",
    "test = html_soup.find_all(\"a\", class_=\"post-user-username dropdown-toggle\")\n",
    "for line in test:\n",
    "    print(line.get_text().replace(\"\\n\", \"\")[6:-6])"
   ]
  },
  {
   "cell_type": "code",
   "execution_count": 17,
   "metadata": {},
   "outputs": [
    {
     "output_type": "stream",
     "name": "stdout",
     "text": [
      "only 1 page\n"
     ]
    }
   ],
   "source": [
    "try:\n",
    "    test = html_soup.find(\"span\", class_ =\"input-page-jump\").get_text()\n",
    "except:\n",
    "    print(\"only 1 page\")\n",
    "else:\n",
    "    print(int(test[11:]))"
   ]
  },
  {
   "cell_type": "code",
   "execution_count": 18,
   "metadata": {},
   "outputs": [
    {
     "output_type": "execute_result",
     "data": {
      "text/plain": [
       "'<!DOCTYPE html PUBLIC \"-//W3C//DTD XHTML 1.0 Transitional//EN\" \"http://www.w3.org/TR/xhtml1/DTD/xhtml1-transitional.dtd\">\\n\\n<html lang=\"sv\" xml:lang=\"sv\" xmlns=\"http://www.w3.org/1999/xhtml\">\\n<head>\\n<meta charset=\"utf-8\"/>\\n<meta content=\"telephone=no\" name=\"format-detection\">\\n<meta content=\"width=device-width, initial-scale=1, minimal-ui\" name=\"viewport\"/>\\n<meta content=\"yes\" name=\"apple-mobile-web-app-capable\">\\n<meta content=\"Ta adliga efternamn. Avskyvärt eller OK?, flashback, forum\" name=\"keyw'"
      ]
     },
     "metadata": {},
     "execution_count": 18
    }
   ],
   "source": [
    "#https://www.flashback.org/t3244499p1   vanlig fil\n",
    "# https://www.flashback.org/t3244493p1\n",
    "number =3244495\n",
    "page = 1\n",
    "url = requests.get(\"https://www.flashback.org/t{}p{}\".format(number, page), headers={\"User-Agent\":\"Mozilla/5.0\"})\n",
    "html_soup = BeautifulSoup(url.content, 'html.parser')\n",
    "str(html_soup)[0:500]"
   ]
  },
  {
   "cell_type": "code",
   "execution_count": 19,
   "metadata": {},
   "outputs": [
    {
     "output_type": "stream",
     "name": "stdout",
     "text": [
      "2\n3\n4\n5\n6\n7\n8\n9\n10\n11\n12\n13\n"
     ]
    }
   ],
   "source": [
    "try:\n",
    "    test = html_soup.find(\"span\", class_ =\"input-page-jump\").get_text()\n",
    "except:\n",
    "    print(\"only 1 page\")\n",
    "else:\n",
    "    page_number = int(test[11:])\n",
    "    page = 2\n",
    "    for i in range(page_number-1):\n",
    "        print(page)\n",
    "        page += 1"
   ]
  },
  {
   "cell_type": "code",
   "execution_count": 20,
   "metadata": {},
   "outputs": [
    {
     "output_type": "stream",
     "name": "stdout",
     "text": [
      "okej\n"
     ]
    }
   ],
   "source": [
    "svar = html_soup.find(\"h2\").get_text()\n",
    "svar\n",
    "if svar == \"Ojdå! Sidan kunde inte hittas\":\n",
    "    print(\"next\")\n",
    "else:\n",
    "    print(\"okej\")"
   ]
  },
  {
   "cell_type": "code",
   "execution_count": 21,
   "metadata": {},
   "outputs": [
    {
     "output_type": "stream",
     "name": "stdout",
     "text": [
      "hej\nWall time: 0 ns\n"
     ]
    }
   ],
   "source": [
    "%%time \n",
    "print(\"hej\")"
   ]
  },
  {
   "source": [
    "## The code below is made to scrape the data from flashback, start means the link that you should start with and the end is where it will end.\n",
    "\n",
    "This example shows how to web scrape 3 flashback threads, those that are 171001 to 171004"
   ],
   "cell_type": "markdown",
   "metadata": {}
  },
  {
   "cell_type": "code",
   "execution_count": 22,
   "metadata": {},
   "outputs": [],
   "source": [
    "#Where to start and end, this example showcase how to download 10 \n",
    "\n",
    "start = 171001\n",
    "\n",
    "\n",
    "end = 171010"
   ]
  },
  {
   "cell_type": "code",
   "execution_count": 23,
   "metadata": {},
   "outputs": [],
   "source": [
    "lst = []\n"
   ]
  },
  {
   "cell_type": "code",
   "execution_count": 24,
   "metadata": {},
   "outputs": [
    {
     "output_type": "execute_result",
     "data": {
      "text/plain": [
       "False"
      ]
     },
     "metadata": {},
     "execution_count": 24
    }
   ],
   "source": [
    "#debug cell ta bort denna sen \n",
    "x = html_soup.find(\"div\", class_=\"panel-heading\").get_text()\n",
    "x\n",
    "x == \"Ojdå! Sidan kunde inte hittas\""
   ]
  },
  {
   "cell_type": "code",
   "execution_count": 25,
   "metadata": {},
   "outputs": [
    {
     "output_type": "stream",
     "name": "stdout",
     "text": [
      "Code:  200   and the number is: 171010, the page is 10 and all total is 11\n\nNytt idag\n\nWall time: 14.4 s\n"
     ]
    },
    {
     "output_type": "execute_result",
     "data": {
      "text/plain": [
       "                                   link  \\\n",
       "0   https://www.flashback.org/t171002p1   \n",
       "1   https://www.flashback.org/t171002p1   \n",
       "2   https://www.flashback.org/t171002p1   \n",
       "3   https://www.flashback.org/t171002p1   \n",
       "4   https://www.flashback.org/t171002p1   \n",
       "5   https://www.flashback.org/t171003p1   \n",
       "6   https://www.flashback.org/t171003p1   \n",
       "7   https://www.flashback.org/t171003p1   \n",
       "8   https://www.flashback.org/t171005p1   \n",
       "9   https://www.flashback.org/t171005p1   \n",
       "10  https://www.flashback.org/t171005p1   \n",
       "11  https://www.flashback.org/t171007p1   \n",
       "12  https://www.flashback.org/t171007p1   \n",
       "13  https://www.flashback.org/t171007p1   \n",
       "14  https://www.flashback.org/t171007p1   \n",
       "15  https://www.flashback.org/t171008p1   \n",
       "16  https://www.flashback.org/t171008p1   \n",
       "17  https://www.flashback.org/t171009p1   \n",
       "18  https://www.flashback.org/t171009p1   \n",
       "19  https://www.flashback.org/t171009p1   \n",
       "20  https://www.flashback.org/t171009p1   \n",
       "21  https://www.flashback.org/t171009p1   \n",
       "22  https://www.flashback.org/t171009p1   \n",
       "23  https://www.flashback.org/t171009p1   \n",
       "24  https://www.flashback.org/t171009p1   \n",
       "25  https://www.flashback.org/t171009p1   \n",
       "26  https://www.flashback.org/t171009p1   \n",
       "27  https://www.flashback.org/t171009p1   \n",
       "28  https://www.flashback.org/t171009p1   \n",
       "29  https://www.flashback.org/t171009p2   \n",
       "30  https://www.flashback.org/t171009p2   \n",
       "31  https://www.flashback.org/t171009p2   \n",
       "32  https://www.flashback.org/t171009p2   \n",
       "33  https://www.flashback.org/t171009p2   \n",
       "34  https://www.flashback.org/t171010p1   \n",
       "\n",
       "                                                forum  \\\n",
       "0       Dator och ITÖvriga dator- och IT-diskussioner   \n",
       "1       Dator och ITÖvriga dator- och IT-diskussioner   \n",
       "2       Dator och ITÖvriga dator- och IT-diskussioner   \n",
       "3       Dator och ITÖvriga dator- och IT-diskussioner   \n",
       "4       Dator och ITÖvriga dator- och IT-diskussioner   \n",
       "5       Dator och ITÖvriga dator- och IT-diskussioner   \n",
       "6       Dator och ITÖvriga dator- och IT-diskussioner   \n",
       "7       Dator och ITÖvriga dator- och IT-diskussioner   \n",
       "8   ÖvrigtArkiverade forumEgna texter (Noveller oc...   \n",
       "9   ÖvrigtArkiverade forumEgna texter (Noveller oc...   \n",
       "10  ÖvrigtArkiverade forumEgna texter (Noveller oc...   \n",
       "11                            PolitikPolitik: utrikes   \n",
       "12                            PolitikPolitik: utrikes   \n",
       "13                            PolitikPolitik: utrikes   \n",
       "14                            PolitikPolitik: utrikes   \n",
       "15           Mat, dryck & tobakMatlagning och metoder   \n",
       "16           Mat, dryck & tobakMatlagning och metoder   \n",
       "17              Kultur & MediaMedier och journalistik   \n",
       "18              Kultur & MediaMedier och journalistik   \n",
       "19              Kultur & MediaMedier och journalistik   \n",
       "20              Kultur & MediaMedier och journalistik   \n",
       "21              Kultur & MediaMedier och journalistik   \n",
       "22              Kultur & MediaMedier och journalistik   \n",
       "23              Kultur & MediaMedier och journalistik   \n",
       "24              Kultur & MediaMedier och journalistik   \n",
       "25              Kultur & MediaMedier och journalistik   \n",
       "26              Kultur & MediaMedier och journalistik   \n",
       "27              Kultur & MediaMedier och journalistik   \n",
       "28              Kultur & MediaMedier och journalistik   \n",
       "29              Kultur & MediaMedier och journalistik   \n",
       "30              Kultur & MediaMedier och journalistik   \n",
       "31              Kultur & MediaMedier och journalistik   \n",
       "32              Kultur & MediaMedier och journalistik   \n",
       "33              Kultur & MediaMedier och journalistik   \n",
       "34                                      SexPornografi   \n",
       "\n",
       "                                                title                 date  \\\n",
       "0                               COM HEM-telefoni=SKIT    2004-12-28, 20:42   \n",
       "1                               COM HEM-telefoni=SKIT    2004-12-28, 22:52   \n",
       "2                               COM HEM-telefoni=SKIT    2004-12-29, 05:46   \n",
       "3                               COM HEM-telefoni=SKIT    2004-12-29, 08:33   \n",
       "4                               COM HEM-telefoni=SKIT    2004-12-29, 10:13   \n",
       "5                           konventera till mobilspel    2004-12-28, 20:50   \n",
       "6                           konventera till mobilspel    2004-12-28, 21:47   \n",
       "7                           konventera till mobilspel    2004-12-29, 00:16   \n",
       "8                                       Strul som fan    2004-12-28, 21:08   \n",
       "9                                       Strul som fan    2004-12-28, 21:09   \n",
       "10                                      Strul som fan    2004-12-28, 21:30   \n",
       "11                         Ytterligare ett par länkar    2004-12-28, 21:21   \n",
       "12                         Ytterligare ett par länkar    2004-12-28, 21:23   \n",
       "13                         Ytterligare ett par länkar    2004-12-28, 21:56   \n",
       "14                         Ytterligare ett par länkar    2004-12-29, 09:21   \n",
       "15                       Sökes: Recept på potatiskaka    2004-12-28, 21:34   \n",
       "16                       Sökes: Recept på potatiskaka    2004-12-30, 01:49   \n",
       "17  Hur bra tror ni att en ny konkurent till Afton...    2004-12-28, 21:37   \n",
       "18  Hur bra tror ni att en ny konkurent till Afton...    2004-12-28, 21:45   \n",
       "19  Hur bra tror ni att en ny konkurent till Afton...    2004-12-29, 00:19   \n",
       "20  Hur bra tror ni att en ny konkurent till Afton...    2004-12-29, 00:40   \n",
       "21  Hur bra tror ni att en ny konkurent till Afton...    2004-12-29, 09:31   \n",
       "22  Hur bra tror ni att en ny konkurent till Afton...    2004-12-29, 09:39   \n",
       "23  Hur bra tror ni att en ny konkurent till Afton...    2004-12-29, 15:27   \n",
       "24  Hur bra tror ni att en ny konkurent till Afton...    2004-12-29, 15:46   \n",
       "25  Hur bra tror ni att en ny konkurent till Afton...    2004-12-29, 17:32   \n",
       "26  Hur bra tror ni att en ny konkurent till Afton...  2004-12-30, 19:28\\t   \n",
       "27  Hur bra tror ni att en ny konkurent till Afton...  2004-12-30, 19:31\\t   \n",
       "28  Hur bra tror ni att en ny konkurent till Afton...  2004-12-30, 21:15\\t   \n",
       "29  Hur bra tror ni att en ny konkurent till Afton...  2004-12-30, 21:25\\t   \n",
       "30  Hur bra tror ni att en ny konkurent till Afton...  2004-12-30, 21:41\\t   \n",
       "31  Hur bra tror ni att en ny konkurent till Afton...  2004-12-30, 21:51\\t   \n",
       "32  Hur bra tror ni att en ny konkurent till Afton...  2004-12-30, 21:53\\t   \n",
       "33  Hur bra tror ni att en ny konkurent till Afton...  2004-12-31, 07:14\\t   \n",
       "34                          ladda bilder från en sida    2004-12-28, 21:38   \n",
       "\n",
       "           username                                               text  \n",
       "0             buiko  \\nCOMHEM:s fasta telefoni-Rena skiten!!.\\n\\r\\n...  \n",
       "1              Klng  \\n\\t\\t\\t\\tComhem är inte enda skiten, bredband...  \n",
       "2            Nerion  \\n\\nCitat:\\n\\n\\n\\t\\t\\tUrsprungligen postat av ...  \n",
       "3         Porrpojke  \\n\\t\\t\\t\\tJag använder Comhem's bredbandstelef...  \n",
       "4            Stiffy  \\n\\t\\t\\t\\tHar haft problem med BBB's IP-Tele e...  \n",
       "5            muttko  \\n\\t\\t\\t\\tom man tankar ett java spel från www...  \n",
       "6       phreakdenta  \\n\\t\\t\\t\\tDe är skrivna för att fungera på sys...  \n",
       "7            muttko  \\n\\t\\t\\t\\tokej, va tråkigt. så då måste man gö...  \n",
       "8            gtk qt  \\n\\t\\t\\t\\tBörjade med att kylskåpet pajade.\\r\\...  \n",
       "9         LadyTiera  \\n\\t\\t\\t\\tflyttar till noveller där man kan sk...  \n",
       "10           gtk qt  \\n\\t\\t\\t\\tTack för att denna tråd blev flyttad...  \n",
       "11      Huvudstaden  \\nhttp://icevikings.blogspot.com/2004/...butch...  \n",
       "12      Huvudstaden  \\n\\t\\t\\t\\tFör säkerhetskull ger jag även denna...  \n",
       "13           SvaMp_  \\n\\nCitat:\\n\\n\\n\\t\\t\\tUrsprungligen postat av ...  \n",
       "14           esping  \\n\\t\\t\\t\\tDu är en jävel på att posta länkar d...  \n",
       "15  GlittrigaGullan  \\n\\t\\t\\t\\tJag söker ett recept på potatiskaka....  \n",
       "16        StigAllan  \\n\\t\\t\\t\\tHar ett potatiskaksrecep som innehål...  \n",
       "17        AbelBalbo  \\n\\t\\t\\t\\tJag har sedan länge tröttnat på Afto...  \n",
       "18           Hisper  \\n\\t\\t\\t\\tJag tror det skulle vara mycket svår...  \n",
       "19           dnulöV  \\n\\t\\t\\t\\tHockey resultaten borde vara med i n...  \n",
       "20         Pellenez  \\n\\nCitat:\\n\\n\\n\\t\\t\\tUrsprungligen postat av ...  \n",
       "21           Cohiba  \\n\\t\\t\\t\\tKvällstidningskonceptet är kört i bo...  \n",
       "22           Klevis  \\n\\nCitat:\\n\\n\\n\\t\\t\\tUrsprungligen postat av ...  \n",
       "23            bjure  \\n\\t\\t\\t\\tFolk köper inte tidningar för att de...  \n",
       "24       Carpe Diem  \\n\\t\\t\\t\\tMetro konceptet har ju visat sig var...  \n",
       "25     Wittgenstein  \\n\\t\\t\\t\\tJa, tack. Lite seriös journalistik v...  \n",
       "26        AbelBalbo  \\n\\t\\t\\t\\tJag ser hellre en seriös tidning med...  \n",
       "27         Dr. Löhk  \\n\\t\\t\\t\\tJag hade mer än gärna arbetat på en ...  \n",
       "28         _Spirou_  \\n\\t\\t\\t\\tTror du att det som skriv i tidninga...  \n",
       "29         Dr. Löhk  \\n\\nCitat:\\n\\n\\n\\t\\t\\tUrsprungligen postat av ...  \n",
       "30         Nidstang  \\n\\t\\t\\t\\tSka du starta en tidning idag. Så är...  \n",
       "31          tommy_t  \\n\\nCitat:\\n\\n\\n\\t\\t\\tUrsprungligen postat av ...  \n",
       "32         Dr. Löhk  \\n\\nCitat:\\n\\n\\n\\t\\t\\tUrsprungligen postat av ...  \n",
       "33              BJB  \\n\\t\\t\\t\\tJag är dock helt övertygad om att en...  \n",
       "34          samsung  \\n\\t\\t\\t\\thur sparar jag bilder från tex. www....  "
      ],
      "text/html": "<div>\n<style scoped>\n    .dataframe tbody tr th:only-of-type {\n        vertical-align: middle;\n    }\n\n    .dataframe tbody tr th {\n        vertical-align: top;\n    }\n\n    .dataframe thead th {\n        text-align: right;\n    }\n</style>\n<table border=\"1\" class=\"dataframe\">\n  <thead>\n    <tr style=\"text-align: right;\">\n      <th></th>\n      <th>link</th>\n      <th>forum</th>\n      <th>title</th>\n      <th>date</th>\n      <th>username</th>\n      <th>text</th>\n    </tr>\n  </thead>\n  <tbody>\n    <tr>\n      <th>0</th>\n      <td>https://www.flashback.org/t171002p1</td>\n      <td>Dator och ITÖvriga dator- och IT-diskussioner</td>\n      <td>COM HEM-telefoni=SKIT</td>\n      <td>2004-12-28, 20:42</td>\n      <td>buiko</td>\n      <td>\\nCOMHEM:s fasta telefoni-Rena skiten!!.\\n\\r\\n...</td>\n    </tr>\n    <tr>\n      <th>1</th>\n      <td>https://www.flashback.org/t171002p1</td>\n      <td>Dator och ITÖvriga dator- och IT-diskussioner</td>\n      <td>COM HEM-telefoni=SKIT</td>\n      <td>2004-12-28, 22:52</td>\n      <td>Klng</td>\n      <td>\\n\\t\\t\\t\\tComhem är inte enda skiten, bredband...</td>\n    </tr>\n    <tr>\n      <th>2</th>\n      <td>https://www.flashback.org/t171002p1</td>\n      <td>Dator och ITÖvriga dator- och IT-diskussioner</td>\n      <td>COM HEM-telefoni=SKIT</td>\n      <td>2004-12-29, 05:46</td>\n      <td>Nerion</td>\n      <td>\\n\\nCitat:\\n\\n\\n\\t\\t\\tUrsprungligen postat av ...</td>\n    </tr>\n    <tr>\n      <th>3</th>\n      <td>https://www.flashback.org/t171002p1</td>\n      <td>Dator och ITÖvriga dator- och IT-diskussioner</td>\n      <td>COM HEM-telefoni=SKIT</td>\n      <td>2004-12-29, 08:33</td>\n      <td>Porrpojke</td>\n      <td>\\n\\t\\t\\t\\tJag använder Comhem's bredbandstelef...</td>\n    </tr>\n    <tr>\n      <th>4</th>\n      <td>https://www.flashback.org/t171002p1</td>\n      <td>Dator och ITÖvriga dator- och IT-diskussioner</td>\n      <td>COM HEM-telefoni=SKIT</td>\n      <td>2004-12-29, 10:13</td>\n      <td>Stiffy</td>\n      <td>\\n\\t\\t\\t\\tHar haft problem med BBB's IP-Tele e...</td>\n    </tr>\n    <tr>\n      <th>5</th>\n      <td>https://www.flashback.org/t171003p1</td>\n      <td>Dator och ITÖvriga dator- och IT-diskussioner</td>\n      <td>konventera till mobilspel</td>\n      <td>2004-12-28, 20:50</td>\n      <td>muttko</td>\n      <td>\\n\\t\\t\\t\\tom man tankar ett java spel från www...</td>\n    </tr>\n    <tr>\n      <th>6</th>\n      <td>https://www.flashback.org/t171003p1</td>\n      <td>Dator och ITÖvriga dator- och IT-diskussioner</td>\n      <td>konventera till mobilspel</td>\n      <td>2004-12-28, 21:47</td>\n      <td>phreakdenta</td>\n      <td>\\n\\t\\t\\t\\tDe är skrivna för att fungera på sys...</td>\n    </tr>\n    <tr>\n      <th>7</th>\n      <td>https://www.flashback.org/t171003p1</td>\n      <td>Dator och ITÖvriga dator- och IT-diskussioner</td>\n      <td>konventera till mobilspel</td>\n      <td>2004-12-29, 00:16</td>\n      <td>muttko</td>\n      <td>\\n\\t\\t\\t\\tokej, va tråkigt. så då måste man gö...</td>\n    </tr>\n    <tr>\n      <th>8</th>\n      <td>https://www.flashback.org/t171005p1</td>\n      <td>ÖvrigtArkiverade forumEgna texter (Noveller oc...</td>\n      <td>Strul som fan</td>\n      <td>2004-12-28, 21:08</td>\n      <td>gtk qt</td>\n      <td>\\n\\t\\t\\t\\tBörjade med att kylskåpet pajade.\\r\\...</td>\n    </tr>\n    <tr>\n      <th>9</th>\n      <td>https://www.flashback.org/t171005p1</td>\n      <td>ÖvrigtArkiverade forumEgna texter (Noveller oc...</td>\n      <td>Strul som fan</td>\n      <td>2004-12-28, 21:09</td>\n      <td>LadyTiera</td>\n      <td>\\n\\t\\t\\t\\tflyttar till noveller där man kan sk...</td>\n    </tr>\n    <tr>\n      <th>10</th>\n      <td>https://www.flashback.org/t171005p1</td>\n      <td>ÖvrigtArkiverade forumEgna texter (Noveller oc...</td>\n      <td>Strul som fan</td>\n      <td>2004-12-28, 21:30</td>\n      <td>gtk qt</td>\n      <td>\\n\\t\\t\\t\\tTack för att denna tråd blev flyttad...</td>\n    </tr>\n    <tr>\n      <th>11</th>\n      <td>https://www.flashback.org/t171007p1</td>\n      <td>PolitikPolitik: utrikes</td>\n      <td>Ytterligare ett par länkar</td>\n      <td>2004-12-28, 21:21</td>\n      <td>Huvudstaden</td>\n      <td>\\nhttp://icevikings.blogspot.com/2004/...butch...</td>\n    </tr>\n    <tr>\n      <th>12</th>\n      <td>https://www.flashback.org/t171007p1</td>\n      <td>PolitikPolitik: utrikes</td>\n      <td>Ytterligare ett par länkar</td>\n      <td>2004-12-28, 21:23</td>\n      <td>Huvudstaden</td>\n      <td>\\n\\t\\t\\t\\tFör säkerhetskull ger jag även denna...</td>\n    </tr>\n    <tr>\n      <th>13</th>\n      <td>https://www.flashback.org/t171007p1</td>\n      <td>PolitikPolitik: utrikes</td>\n      <td>Ytterligare ett par länkar</td>\n      <td>2004-12-28, 21:56</td>\n      <td>SvaMp_</td>\n      <td>\\n\\nCitat:\\n\\n\\n\\t\\t\\tUrsprungligen postat av ...</td>\n    </tr>\n    <tr>\n      <th>14</th>\n      <td>https://www.flashback.org/t171007p1</td>\n      <td>PolitikPolitik: utrikes</td>\n      <td>Ytterligare ett par länkar</td>\n      <td>2004-12-29, 09:21</td>\n      <td>esping</td>\n      <td>\\n\\t\\t\\t\\tDu är en jävel på att posta länkar d...</td>\n    </tr>\n    <tr>\n      <th>15</th>\n      <td>https://www.flashback.org/t171008p1</td>\n      <td>Mat, dryck &amp; tobakMatlagning och metoder</td>\n      <td>Sökes: Recept på potatiskaka</td>\n      <td>2004-12-28, 21:34</td>\n      <td>GlittrigaGullan</td>\n      <td>\\n\\t\\t\\t\\tJag söker ett recept på potatiskaka....</td>\n    </tr>\n    <tr>\n      <th>16</th>\n      <td>https://www.flashback.org/t171008p1</td>\n      <td>Mat, dryck &amp; tobakMatlagning och metoder</td>\n      <td>Sökes: Recept på potatiskaka</td>\n      <td>2004-12-30, 01:49</td>\n      <td>StigAllan</td>\n      <td>\\n\\t\\t\\t\\tHar ett potatiskaksrecep som innehål...</td>\n    </tr>\n    <tr>\n      <th>17</th>\n      <td>https://www.flashback.org/t171009p1</td>\n      <td>Kultur &amp; MediaMedier och journalistik</td>\n      <td>Hur bra tror ni att en ny konkurent till Afton...</td>\n      <td>2004-12-28, 21:37</td>\n      <td>AbelBalbo</td>\n      <td>\\n\\t\\t\\t\\tJag har sedan länge tröttnat på Afto...</td>\n    </tr>\n    <tr>\n      <th>18</th>\n      <td>https://www.flashback.org/t171009p1</td>\n      <td>Kultur &amp; MediaMedier och journalistik</td>\n      <td>Hur bra tror ni att en ny konkurent till Afton...</td>\n      <td>2004-12-28, 21:45</td>\n      <td>Hisper</td>\n      <td>\\n\\t\\t\\t\\tJag tror det skulle vara mycket svår...</td>\n    </tr>\n    <tr>\n      <th>19</th>\n      <td>https://www.flashback.org/t171009p1</td>\n      <td>Kultur &amp; MediaMedier och journalistik</td>\n      <td>Hur bra tror ni att en ny konkurent till Afton...</td>\n      <td>2004-12-29, 00:19</td>\n      <td>dnulöV</td>\n      <td>\\n\\t\\t\\t\\tHockey resultaten borde vara med i n...</td>\n    </tr>\n    <tr>\n      <th>20</th>\n      <td>https://www.flashback.org/t171009p1</td>\n      <td>Kultur &amp; MediaMedier och journalistik</td>\n      <td>Hur bra tror ni att en ny konkurent till Afton...</td>\n      <td>2004-12-29, 00:40</td>\n      <td>Pellenez</td>\n      <td>\\n\\nCitat:\\n\\n\\n\\t\\t\\tUrsprungligen postat av ...</td>\n    </tr>\n    <tr>\n      <th>21</th>\n      <td>https://www.flashback.org/t171009p1</td>\n      <td>Kultur &amp; MediaMedier och journalistik</td>\n      <td>Hur bra tror ni att en ny konkurent till Afton...</td>\n      <td>2004-12-29, 09:31</td>\n      <td>Cohiba</td>\n      <td>\\n\\t\\t\\t\\tKvällstidningskonceptet är kört i bo...</td>\n    </tr>\n    <tr>\n      <th>22</th>\n      <td>https://www.flashback.org/t171009p1</td>\n      <td>Kultur &amp; MediaMedier och journalistik</td>\n      <td>Hur bra tror ni att en ny konkurent till Afton...</td>\n      <td>2004-12-29, 09:39</td>\n      <td>Klevis</td>\n      <td>\\n\\nCitat:\\n\\n\\n\\t\\t\\tUrsprungligen postat av ...</td>\n    </tr>\n    <tr>\n      <th>23</th>\n      <td>https://www.flashback.org/t171009p1</td>\n      <td>Kultur &amp; MediaMedier och journalistik</td>\n      <td>Hur bra tror ni att en ny konkurent till Afton...</td>\n      <td>2004-12-29, 15:27</td>\n      <td>bjure</td>\n      <td>\\n\\t\\t\\t\\tFolk köper inte tidningar för att de...</td>\n    </tr>\n    <tr>\n      <th>24</th>\n      <td>https://www.flashback.org/t171009p1</td>\n      <td>Kultur &amp; MediaMedier och journalistik</td>\n      <td>Hur bra tror ni att en ny konkurent till Afton...</td>\n      <td>2004-12-29, 15:46</td>\n      <td>Carpe Diem</td>\n      <td>\\n\\t\\t\\t\\tMetro konceptet har ju visat sig var...</td>\n    </tr>\n    <tr>\n      <th>25</th>\n      <td>https://www.flashback.org/t171009p1</td>\n      <td>Kultur &amp; MediaMedier och journalistik</td>\n      <td>Hur bra tror ni att en ny konkurent till Afton...</td>\n      <td>2004-12-29, 17:32</td>\n      <td>Wittgenstein</td>\n      <td>\\n\\t\\t\\t\\tJa, tack. Lite seriös journalistik v...</td>\n    </tr>\n    <tr>\n      <th>26</th>\n      <td>https://www.flashback.org/t171009p1</td>\n      <td>Kultur &amp; MediaMedier och journalistik</td>\n      <td>Hur bra tror ni att en ny konkurent till Afton...</td>\n      <td>2004-12-30, 19:28\\t</td>\n      <td>AbelBalbo</td>\n      <td>\\n\\t\\t\\t\\tJag ser hellre en seriös tidning med...</td>\n    </tr>\n    <tr>\n      <th>27</th>\n      <td>https://www.flashback.org/t171009p1</td>\n      <td>Kultur &amp; MediaMedier och journalistik</td>\n      <td>Hur bra tror ni att en ny konkurent till Afton...</td>\n      <td>2004-12-30, 19:31\\t</td>\n      <td>Dr. Löhk</td>\n      <td>\\n\\t\\t\\t\\tJag hade mer än gärna arbetat på en ...</td>\n    </tr>\n    <tr>\n      <th>28</th>\n      <td>https://www.flashback.org/t171009p1</td>\n      <td>Kultur &amp; MediaMedier och journalistik</td>\n      <td>Hur bra tror ni att en ny konkurent till Afton...</td>\n      <td>2004-12-30, 21:15\\t</td>\n      <td>_Spirou_</td>\n      <td>\\n\\t\\t\\t\\tTror du att det som skriv i tidninga...</td>\n    </tr>\n    <tr>\n      <th>29</th>\n      <td>https://www.flashback.org/t171009p2</td>\n      <td>Kultur &amp; MediaMedier och journalistik</td>\n      <td>Hur bra tror ni att en ny konkurent till Afton...</td>\n      <td>2004-12-30, 21:25\\t</td>\n      <td>Dr. Löhk</td>\n      <td>\\n\\nCitat:\\n\\n\\n\\t\\t\\tUrsprungligen postat av ...</td>\n    </tr>\n    <tr>\n      <th>30</th>\n      <td>https://www.flashback.org/t171009p2</td>\n      <td>Kultur &amp; MediaMedier och journalistik</td>\n      <td>Hur bra tror ni att en ny konkurent till Afton...</td>\n      <td>2004-12-30, 21:41\\t</td>\n      <td>Nidstang</td>\n      <td>\\n\\t\\t\\t\\tSka du starta en tidning idag. Så är...</td>\n    </tr>\n    <tr>\n      <th>31</th>\n      <td>https://www.flashback.org/t171009p2</td>\n      <td>Kultur &amp; MediaMedier och journalistik</td>\n      <td>Hur bra tror ni att en ny konkurent till Afton...</td>\n      <td>2004-12-30, 21:51\\t</td>\n      <td>tommy_t</td>\n      <td>\\n\\nCitat:\\n\\n\\n\\t\\t\\tUrsprungligen postat av ...</td>\n    </tr>\n    <tr>\n      <th>32</th>\n      <td>https://www.flashback.org/t171009p2</td>\n      <td>Kultur &amp; MediaMedier och journalistik</td>\n      <td>Hur bra tror ni att en ny konkurent till Afton...</td>\n      <td>2004-12-30, 21:53\\t</td>\n      <td>Dr. Löhk</td>\n      <td>\\n\\nCitat:\\n\\n\\n\\t\\t\\tUrsprungligen postat av ...</td>\n    </tr>\n    <tr>\n      <th>33</th>\n      <td>https://www.flashback.org/t171009p2</td>\n      <td>Kultur &amp; MediaMedier och journalistik</td>\n      <td>Hur bra tror ni att en ny konkurent till Afton...</td>\n      <td>2004-12-31, 07:14\\t</td>\n      <td>BJB</td>\n      <td>\\n\\t\\t\\t\\tJag är dock helt övertygad om att en...</td>\n    </tr>\n    <tr>\n      <th>34</th>\n      <td>https://www.flashback.org/t171010p1</td>\n      <td>SexPornografi</td>\n      <td>ladda bilder från en sida</td>\n      <td>2004-12-28, 21:38</td>\n      <td>samsung</td>\n      <td>\\n\\t\\t\\t\\thur sparar jag bilder från tex. www....</td>\n    </tr>\n  </tbody>\n</table>\n</div>"
     },
     "metadata": {},
     "execution_count": 25
    }
   ],
   "source": [
    "%%time \n",
    "cols = [\"link\", 'forum', 'title', 'date',\"username\", \"text\"]\n",
    "\n",
    "counter = 0\n",
    "counter_total = 0\n",
    "\n",
    "for y in range(start, end+1):\n",
    "    clear_output(wait=True)\n",
    "    counter += 1\n",
    "    y2 = len(str(y))\n",
    "    time.sleep(1)\n",
    "    url = requests.get(\"https://www.flashback.org/t{}p{}\".format(y, 1), headers={\"User-Agent\":\"Mozilla/5.0\"})  #get the link\n",
    "    if url.status_code == 429:\n",
    "        time.sleep(20)\n",
    "    print(\"Code:  {}   and the number is: {}, the page is {} and all total is {}\".format(url.status_code, y, counter, counter_total + counter))\n",
    "    html_soup = BeautifulSoup(url.content, 'html.parser')\n",
    "    svar2 = html_soup.find(\"div\", class_=\"panel-heading\")\n",
    "\n",
    "    svar2 = html_soup.find(\"div\", class_=\"panel-heading\").get_text() #checks if there is anything at all\n",
    "\n",
    "    print(svar2)\n",
    "\n",
    "    if svar2 ==\"\\nFlashback Forum: meddelande\\n\" or svar2 == \"\\n\\nOjdå! Sidan kunde inte hittas\\n\":\n",
    "        print(\"Fel forum meddelande\")\n",
    "        \n",
    "        continue   # if there is no thread then it skips\n",
    "    \n",
    "  #  svar = html_soup.find(\"h2\").get_text()\n",
    "  #  if svar == \"Ojdå! Sidan kunde inte hittas\":\n",
    "    #    print(\"Sidan kunde inte hittas\")\n",
    "      #  continue   # if there is no thread then it skips\n",
    "        \n",
    "    else:\n",
    "        link = \"https://www.flashback.org/t{}p{}\".format(y, 1)\n",
    "        #print(\"The link is {} and it is working\".format(i))\n",
    "        title = html_soup.findAll(\"h1\")\n",
    "        title = str(title[1])[18 +y2:-10]\n",
    "        \n",
    "        forum = html_soup.find(\"div\", class_=\"list-forum-title\").get_text()\n",
    "        forum = forum.replace(\"\\n\", \"\") \n",
    "        \n",
    "        date = html_soup.find_all(\"div\", class_=\"post-heading\")\n",
    "        \n",
    "        num_posts = len(date)\n",
    "        \n",
    "        user_name_nan = html_soup.find_all(\"div\", class_=\"post-user-info small\")\n",
    "        \n",
    "        \n",
    "        #print(\"len date är {}\".format(num_posts))\n",
    "        \n",
    "        \n",
    "        user_name = html_soup.find_all(\"a\", class_=\"post-user-username dropdown-toggle\")\n",
    "        \n",
    "        text = html_soup.find_all(\"div\", class_=\"post_message\")\n",
    "        \n",
    "        lista_nan = []   #some user doen't have a user name anymore it just say \"nan\" and wont be picked up\n",
    "        for i in range(len(date)):\n",
    "            if user_name_nan[i].get_text()[1:-1] == \"Inlägg: n/a\":\n",
    "                lista_nan.append(i)\n",
    "        \n",
    "        lista = []\n",
    "\n",
    "        for namn in user_name:\n",
    "            lista.append(namn.get_text().replace(\"\\n\", \"\")[6:-6])\n",
    "            \n",
    "        for nan in lista_nan:\n",
    "            lista.insert(int(nan),float(\"NaN\") )\n",
    "        \n",
    "        \n",
    "        for i in range(num_posts):\n",
    "            date_var = date[i].get_text().replace(\"\\n\", \"\")[4:-30]\n",
    "        \n",
    "            user_name_var = lista[i]\n",
    "            #print(\"{} and number: {}\".format(user_name_var, i))\n",
    "            text_var = text[i].get_text()\n",
    "            \n",
    "            lst.append([link, forum, title, date_var, user_name_var, text_var])\n",
    "        \n",
    "        try:\n",
    "            test = html_soup.find(\"span\", class_ =\"input-page-jump\").get_text()\n",
    "        except:\n",
    "            continue\n",
    "        else:\n",
    "            page_number = int(test[11:])\n",
    "            page = 2\n",
    "            for i in range(page_number-1):\n",
    "                counter_total +=1\n",
    "                #url = requests.get(\"https://www.flashback.org/t{}p{}\".format(i, page), headers={\"User-Agent\":\"Mozilla/5.0\"})\n",
    "                #print(\"https://www.flashback.org/t{}p{}\".format(y, page))\n",
    "                \n",
    "                url = requests.get(\"https://www.flashback.org/t{}p{}\".format(y, page), headers={\"User-Agent\":\"Mozilla/5.0\"})\n",
    "                clear_output(wait=True)\n",
    "                print(\"Code:  {}   and the number is: {}, the page is {} and all total is {}\".format(url.status_code, y, counter, counter_total + counter))\n",
    "                html_soup = BeautifulSoup(url.content, 'html.parser')\n",
    "                svar = html_soup.find(\"h2\").get_text()\n",
    "                if svar == \"Ojdå! Sidan kunde inte hittas\":\n",
    "                    continue   # if there is no thread the it skips\n",
    "                else:\n",
    "                    link = \"https://www.flashback.org/t{}p{}\".format(y, page)\n",
    "                    #print(\"The link is {} and it is working\".format(i))\n",
    "                    #title = html_soup.findAll(\"h1\")   #don't need the title again\n",
    "                    #title = str(title[1])[25:-10]\n",
    "\n",
    "                   # forum = html_soup.find(\"div\", class_=\"list-forum-title\").get_text()  don't need the forum again\n",
    "                    #forum = forum.replace(\"\\n\", \"\") \n",
    "\n",
    "                    date = html_soup.find_all(\"div\", class_=\"post-heading\")\n",
    "\n",
    "                    num_posts = len(date)\n",
    "                    user_name_nan = html_soup.find_all(\"div\", class_=\"post-user-info small\")\n",
    "\n",
    "                    user_name = html_soup.find_all(\"a\", class_=\"post-user-username dropdown-toggle\")\n",
    "                    \n",
    "                    lista_nan = []\n",
    "                    for i in range(len(date)):\n",
    "                        if user_name_nan[i].get_text()[1:-1] == \"Inlägg: n/a\":\n",
    "                            lista_nan.append(i)\n",
    "        \n",
    "                    lista = []\n",
    "\n",
    "                    for namn in user_name:\n",
    "                        lista.append(namn.get_text().replace(\"\\n\", \"\")[6:-6])\n",
    "            \n",
    "                    for nan in lista_nan:\n",
    "                        lista.insert(int(nan),float(\"NaN\") )\n",
    "\n",
    "                    text = html_soup.find_all(\"div\", class_=\"post_message\")\n",
    "\n",
    "                    for i in range(num_posts):\n",
    "                        date_var = date[i].get_text().replace(\"\\n\", \"\")[4:-30]\n",
    "\n",
    "                        \n",
    "                        user_name_var = lista[i]\n",
    "\n",
    "                        text_var = text[i].get_text()\n",
    "\n",
    "                        lst.append([link, forum, title, date_var, user_name_var, text_var])\n",
    "\n",
    "                \n",
    "                page += 1\n",
    "                time.sleep(1)\n",
    "                \n",
    "            \n",
    "           # lst.append([y1, y2, y3, y4, y5, y6, y7, y8, y9,y10,y11 ,y12, y13,y14,y15,y16,y17])\n",
    "    \n",
    "df1 = pd.DataFrame(lst, columns=cols)\n",
    "df1"
   ]
  },
  {
   "cell_type": "code",
   "execution_count": 26,
   "metadata": {},
   "outputs": [
    {
     "output_type": "stream",
     "name": "stdout",
     "text": [
      "171010\n10\n"
     ]
    }
   ],
   "source": [
    "print(y)\n",
    "print(counter )"
   ]
  },
  {
   "cell_type": "code",
   "execution_count": 27,
   "metadata": {},
   "outputs": [
    {
     "output_type": "stream",
     "name": "stdout",
     "text": [
      "<class 'pandas.core.frame.DataFrame'>\nRangeIndex: 35 entries, 0 to 34\nData columns (total 6 columns):\n #   Column    Non-Null Count  Dtype \n---  ------    --------------  ----- \n 0   link      35 non-null     object\n 1   forum     35 non-null     object\n 2   title     35 non-null     object\n 3   date      35 non-null     object\n 4   username  35 non-null     object\n 5   text      35 non-null     object\ndtypes: object(6)\nmemory usage: 34.7 KB\n"
     ]
    }
   ],
   "source": [
    "df1.info(memory_usage=\"deep\")"
   ]
  },
  {
   "cell_type": "code",
   "execution_count": 28,
   "metadata": {},
   "outputs": [],
   "source": [
    "svar = html_soup.find(\"h2\")\n",
    "svar\n",
    "\n",
    "if svar == \"\":\n",
    "    print(\"fel\")"
   ]
  },
  {
   "cell_type": "code",
   "execution_count": 29,
   "metadata": {},
   "outputs": [
    {
     "output_type": "execute_result",
     "data": {
      "text/plain": [
       "<h2>Stöd Flashback</h2>"
      ]
     },
     "metadata": {},
     "execution_count": 29
    }
   ],
   "source": [
    "html_soup.find(\"h2\")"
   ]
  },
  {
   "cell_type": "code",
   "execution_count": 30,
   "metadata": {},
   "outputs": [
    {
     "output_type": "execute_result",
     "data": {
      "text/plain": [
       "'samsung'"
      ]
     },
     "metadata": {},
     "execution_count": 30
    }
   ],
   "source": [
    "user_name[i].get_text().replace(\"\\n\", \"\")[6:-6]"
   ]
  },
  {
   "cell_type": "code",
   "execution_count": 31,
   "metadata": {},
   "outputs": [
    {
     "output_type": "execute_result",
     "data": {
      "text/plain": [
       "110000"
      ]
     },
     "metadata": {},
     "execution_count": 31
    }
   ],
   "source": [
    "109000 + 1000"
   ]
  },
  {
   "cell_type": "code",
   "execution_count": 33,
   "metadata": {},
   "outputs": [
    {
     "output_type": "execute_result",
     "data": {
      "text/plain": [
       "'\\n\\nCitat:\\n\\n\\n\\t\\t\\tUrsprungligen postat av Klng\\n\\nComhem är inte enda skiten, bredbandsbolagets ip-telefoni suger ännu mer apa.. Det är helt nytt, antingen räknar man med att få lite (eller mkt problem) eller så väntar man tills det funkar!\\n\\n\\n\\r\\nHar använt BBB ip-telefoni i över 1 år, och har aldrig stött på ett enda problem.\\n\\t\\t\\t'"
      ]
     },
     "metadata": {},
     "execution_count": 33
    }
   ],
   "source": [
    "df1.iloc[2,5]"
   ]
  },
  {
   "cell_type": "code",
   "execution_count": 34,
   "metadata": {},
   "outputs": [
    {
     "output_type": "execute_result",
     "data": {
      "text/plain": [
       "'<!DOCTYPE html PUBLIC \"-//W3C//DTD XHTML 1.0 Transitional//EN\" \"http://www.w3.org/TR/xhtml1/DTD/xhtml1-transitional.dtd\">\\n\\n<html dir=\"ltr\" lang=\"sv\">\\n<head>\\n<meta content=\"noindex,follow\" name=\"robots\"/>\\n<meta charset=\"utf-8\"/>\\n<meta content=\"telephone=no\" name=\"format-detection\">\\n<meta content=\"width=device-width, initial-scale=1, minimal-ui\" name=\"viewport\"/>\\n<meta content=\"yes\" name=\"apple-mobile-web-app-capable\">\\n<meta content=\"flashback, forum\" name=\"keywords\"/>\\n<meta content=\"Flashback Forum\" name=\"description\"/>\\n<link href=\"/opensearch.xml\" rel=\"search\" title=\"Search\" type=\"application/opensearchdescription+xml\"/>\\n<link href=\"https://static.flashback.org/css/vendor.min.css?v=41223\" rel=\"stylesheet\"/>\\n<link href=\"https://static.flashback.org/css/bundle.min.css?v=41223\" rel=\"stylesheet\"/>\\n<link href=\"/external.php?type=RSS\" rel=\"alternate\" title=\"Flashback Forum RSS Feed\" type=\"application/rss+xml\"/>\\n<link href=\"https://static.flashback.org/img/favicon.ico\" rel=\"shortcut icon\" ty'"
      ]
     },
     "metadata": {},
     "execution_count": 34
    }
   ],
   "source": [
    "number =10\n",
    "page = 1\n",
    "url = requests.get(\"https://www.flashback.org/t{}p{}\".format(number, page), headers={\"User-Agent\":\"Mozilla/5.0\"})\n",
    "html_soup = BeautifulSoup(url.content, 'html.parser')\n",
    "str(html_soup)[1:1000]"
   ]
  }
 ],
 "metadata": {
  "kernelspec": {
   "display_name": "Python 3",
   "language": "python",
   "name": "python3"
  },
  "language_info": {
   "codemirror_mode": {
    "name": "ipython",
    "version": 3
   },
   "file_extension": ".py",
   "mimetype": "text/x-python",
   "name": "python",
   "nbconvert_exporter": "python",
   "pygments_lexer": "ipython3",
   "version": "3.8.5-final"
  }
 },
 "nbformat": 4,
 "nbformat_minor": 2
}